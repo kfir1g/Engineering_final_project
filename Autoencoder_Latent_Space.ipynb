{
  "nbformat": 4,
  "nbformat_minor": 0,
  "metadata": {
    "colab": {
      "name": "Autoencoder_Latent_Space.ipynb",
      "provenance": [],
      "collapsed_sections": [
        "1nh-uVjhJHoC",
        "9UNC44G4JZnD"
      ],
      "authorship_tag": "ABX9TyNyWUbw+Ur0MsvKOccJFzuJ",
      "include_colab_link": true
    },
    "kernelspec": {
      "name": "python3",
      "display_name": "Python 3"
    },
    "accelerator": "GPU"
  },
  "cells": [
    {
      "cell_type": "markdown",
      "metadata": {
        "id": "view-in-github",
        "colab_type": "text"
      },
      "source": [
        "<a href=\"https://colab.research.google.com/github/kfir1g/Engineering_final_project/blob/master/Autoencoder_Latent_Space.ipynb\" target=\"_parent\"><img src=\"https://colab.research.google.com/assets/colab-badge.svg\" alt=\"Open In Colab\"/></a>"
      ]
    },
    {
      "cell_type": "markdown",
      "metadata": {
        "id": "X4lD-CPVF-cw",
        "colab_type": "text"
      },
      "source": [
        "## Loading Tensorflow on colab"
      ]
    },
    {
      "cell_type": "code",
      "metadata": {
        "id": "jJPVVwKcFy3h",
        "colab_type": "code",
        "colab": {}
      },
      "source": [
        "try:\n",
        "  # %tensorflow_version only exists in Colab.\n",
        "  %tensorflow_version 2.x\n",
        "except Exception:\n",
        "  pass"
      ],
      "execution_count": 0,
      "outputs": []
    },
    {
      "cell_type": "markdown",
      "metadata": {
        "id": "Tq7mlMr-Jtmv",
        "colab_type": "text"
      },
      "source": [
        "## Imports and Constants\n",
        "Change the following constants as you see fit"
      ]
    },
    {
      "cell_type": "code",
      "metadata": {
        "id": "-JlFFJf1JyuJ",
        "colab_type": "code",
        "colab": {}
      },
      "source": [
        "import tensorflow as tf\n",
        "from tensorflow.keras.layers import Dense, Flatten, Conv2D, MaxPooling2D, Dropout, InputLayer, Reshape, Conv2DTranspose\n",
        "from tensorflow.keras import Model\n",
        "import numpy as np\n",
        "import matplotlib.pyplot as plt\n",
        "from sklearn import manifold\n",
        "\n",
        "TRAIN_BUF = 60000\n",
        "BATCH_SIZE = 1000\n",
        "TEST_BUF = 10000\n",
        "EPOCHES = 100\n",
        "NOISE_RATIO = 0.0    # noise should be in the range [0, 1]\n",
        "LEARNING_RATE = 1e-3\n",
        "VISUALIZE_IMAGE_EXAMPLE = True\n",
        "VISUALIZE_LATENT_SPACE = True\n",
        "SHOW_PREDICTION_EXAMPLE = True"
      ],
      "execution_count": 0,
      "outputs": []
    },
    {
      "cell_type": "markdown",
      "metadata": {
        "id": "1nh-uVjhJHoC",
        "colab_type": "text"
      },
      "source": [
        "## Defining the AutoEncoder"
      ]
    },
    {
      "cell_type": "code",
      "metadata": {
        "id": "F2OIlun4G3ci",
        "colab_type": "code",
        "colab": {}
      },
      "source": [
        "class Encoder (Model):\n",
        "    def __init__(self):\n",
        "        super(Encoder, self).__init__()\n",
        "        self.conv1 = Conv2D(32, 3, strides=(2, 2), activation='relu')\n",
        "        self.conv2 = Conv2D(64, 3, strides=(2, 2), activation='relu')\n",
        "        self.flatten = Flatten()\n",
        "        self.dense1 = Dense(512, activation='relu')\n",
        "        self.dense2 = Dense(10, activation='relu')\n",
        "\n",
        "    def call(self, x):\n",
        "        x = self.conv1(x)\n",
        "        x = self.conv2(x)\n",
        "        x = self.flatten(x)\n",
        "        x = self.dense1(x)\n",
        "        return self.dense2(x)\n",
        "\n",
        "\n",
        "class Decoder(Model):\n",
        "    def __init__(self):\n",
        "        super(Decoder, self).__init__()\n",
        "        self.dense1 = Dense(512, activation='relu')\n",
        "        self.dense2 = Dense(7 * 7 * 64, activation='relu')\n",
        "        self.reshape = Reshape(target_shape=(7, 7, 64))\n",
        "        self.transConv1 = Conv2DTranspose(filters=32, kernel_size=3, strides=(2, 2), activation='relu', padding='same')\n",
        "        self.transConv2 = Conv2DTranspose(filters=1, kernel_size=3, strides=(2, 2), activation='sigmoid', padding='same')\n",
        "\n",
        "    def call(self, x):\n",
        "        x = self.dense1(x)\n",
        "        x = self.dense2(x)\n",
        "        x = self.reshape(x)\n",
        "        x = self.transConv1(x)\n",
        "        return self.transConv2(x)\n",
        "\n",
        "\n",
        "class AutoEncoder(Model):\n",
        "    def __init__(self):\n",
        "        super(AutoEncoder, self).__init__()\n",
        "        self.encoder = Encoder()\n",
        "        self.decoder = Decoder()\n",
        "\n",
        "    def call(self, x):\n",
        "        output = []\n",
        "        x = self.encoder(x)\n",
        "        output.append(x)\n",
        "        x = self.decoder(x)\n",
        "        output.append(x)\n",
        "        return output"
      ],
      "execution_count": 0,
      "outputs": []
    },
    {
      "cell_type": "markdown",
      "metadata": {
        "id": "9UNC44G4JZnD",
        "colab_type": "text"
      },
      "source": [
        "## Loading Data\n",
        "Loading mnist data, and normalizing it"
      ]
    },
    {
      "cell_type": "code",
      "metadata": {
        "id": "8JqKbt5PJhyn",
        "colab_type": "code",
        "colab": {}
      },
      "source": [
        "def load_and_prep_data(noise_ratio=0.0):\n",
        "    \"\"\"Loads data from Mnist and normalize it to the range [0, 1]\"\"\"\n",
        "    (train_images, train_labels), (test_images, test_labels) = tf.keras.datasets.mnist.load_data()\n",
        "    train_images = train_images.reshape(train_images.shape[0], 28, 28, 1).astype('float32')\n",
        "    test_images = test_images.reshape(test_images.shape[0], 28, 28, 1).astype('float32')\n",
        "\n",
        "    # Normalization of the data\n",
        "    train_images = (train_images - train_images.min()) / (train_images.max() - train_images.min())\n",
        "    test_images = (test_images - test_images.min()) / (test_images.max() - test_images.min()) \n",
        "\n",
        "    # Add noise to the image\n",
        "    if noise_ratio:\n",
        "        train_images = train_images + noise_ratio * np.random.normal(loc=0, scale=1.0, size=train_images.shape)\n",
        "        train_images = np.clip(train_images, 0.0, 1.0)\n",
        "        test_images = test_images + noise_ratio * np.random.normal(loc=0, scale=1.0, size=test_images.shape)\n",
        "        test_images = np.clip(test_images, 0.0, 1.0)\n",
        "        train_images = train_images.reshape(train_images.shape[0], 28, 28, 1).astype('float32')\n",
        "        test_images = test_images.reshape(test_images.shape[0], 28, 28, 1).astype('float32')\n",
        "\n",
        "    train_dataset = tf.data.Dataset.from_tensor_slices((train_images, train_labels)).shuffle(TRAIN_BUF).batch(BATCH_SIZE)\n",
        "    test_dataset = tf.data.Dataset.from_tensor_slices((test_images, test_labels)).shuffle(TEST_BUF).batch(BATCH_SIZE)\n",
        "    return train_dataset, test_dataset"
      ],
      "execution_count": 0,
      "outputs": []
    },
    {
      "cell_type": "markdown",
      "metadata": {
        "id": "IzJcwLepK-Bf",
        "colab_type": "text"
      },
      "source": [
        "## Method definition\n",
        "The following methods define the training process"
      ]
    },
    {
      "cell_type": "code",
      "metadata": {
        "id": "zLoGBs84K9qL",
        "colab_type": "code",
        "colab": {}
      },
      "source": [
        "def reset_states():\n",
        "    \"\"\"This function reset the accuracy and the loss\"\"\"\n",
        "    train_loss.reset_states()\n",
        "    train_accuracy.reset_states()\n",
        "    test_loss.reset_states()\n",
        "    test_accuracy.reset_states()\n",
        "\n",
        "\n",
        "def loss_l2(images, predictions):\n",
        "    \"\"\"loss object\"\"\"\n",
        "    return tf.reduce_mean(tf.square(images - predictions))\n",
        "\n",
        "\n",
        "@tf.function\n",
        "def train_step(images):\n",
        "    \"\"\"Gradient decent training\"\"\"\n",
        "    with tf.GradientTape() as tape:\n",
        "        predictions = model(images)[-1]\n",
        "        loss = loss_l2(images, predictions)\n",
        "        gradients = tape.gradient(loss, model.trainable_variables)\n",
        "        optimizer.apply_gradients(zip(gradients, model.trainable_variables))\n",
        "        train_loss(loss)\n",
        "        train_accuracy(images, predictions)\n",
        "    return loss\n",
        "\n",
        "\n",
        "def test_step(images):\n",
        "    \"\"\"Tests the images\"\"\"\n",
        "    predictions = model(images)[-1]\n",
        "    loss = loss_l2(images, predictions)\n",
        "    test_loss(loss)\n",
        "    test_accuracy(images, predictions)\n",
        "\n",
        "    \n",
        "def train_model(train_dataset):\n",
        "    \"\"\"Train the model based on previously declared methods\"\"\"\n",
        "    for epoch in range(EPOCHES):\n",
        "        for images, labels in train_dataset:\n",
        "            train_step(images)\n",
        "        template = 'Epoch {}, Loss: {}, Accuracy: {}'\n",
        "        print(template.format(epoch + 1, train_loss.result(), train_accuracy.result() * 100))\n",
        "        print(\" -- \", flush=True)\n",
        "        reset_states()\n",
        "\n",
        "\n",
        "def visualize_latent_space(test_dataset, title=''):\n",
        "    \"\"\"\n",
        "    plots the latent space\n",
        "    :param test_dataset: The test dataset\n",
        "    :param title: the title for the figure\n",
        "    \"\"\"\n",
        "    for x, y in test_dataset:\n",
        "        latent_space = model(x)[0]\n",
        "        fitted_space = manifold.TSNE().fit_transform(latent_space)\n",
        "        for i in range(10):  # 10 possible digits\n",
        "            digit_cluster = fitted_space[np.where(y == i)]\n",
        "            plt.plot(digit_cluster[:, 0], digit_cluster[:, 1], '.')\n",
        "        plt.axis(\"off\")\n",
        "        plt.title(title)\n",
        "        plt.legend({i: i for i in range(10)})\n",
        "        plt.show()\n",
        "        break\n",
        "\n",
        "\n",
        "def visualize_image_example(dataset, noise):\n",
        "    \"\"\"Visualize an example from the training data\"\"\"\n",
        "    for images, labels in dataset:\n",
        "        image = np.reshape(images[0, :, :, :], images.shape[1:3])\n",
        "        plt.imshow(image, cmap='gray')\n",
        "        plt.axis('off')\n",
        "        plt.title(\"Digit={}, Noise={}%\".format(labels[0].numpy().astype(np.str), (noise*100)))\n",
        "        plt.show()\n",
        "        break\n"
      ],
      "execution_count": 0,
      "outputs": []
    },
    {
      "cell_type": "markdown",
      "metadata": {
        "id": "Fb76h3BSN8XZ",
        "colab_type": "text"
      },
      "source": [
        "## Training the Net\n",
        "This section trains the net\n",
        "There are constants regarding showing examples of the results"
      ]
    },
    {
      "cell_type": "code",
      "metadata": {
        "id": "hyIlnXr4N8uQ",
        "colab_type": "code",
        "outputId": "aa76be48-0514-460f-bf1b-698af75df510",
        "colab": {
          "base_uri": "https://localhost:8080/",
          "height": 1000
        }
      },
      "source": [
        "# Elements for the neural network\n",
        "train_loss = tf.keras.metrics.Mean(name='train_loss')\n",
        "train_accuracy = tf.keras.metrics.BinaryAccuracy(name='train_accuracy')\n",
        "test_loss = tf.keras.metrics.Mean(name='test_loss')\n",
        "test_accuracy = tf.keras.metrics.BinaryAccuracy(name='test_accuracy')\n",
        "model = AutoEncoder()\n",
        "optimizer = tf.keras.optimizers.Adam(LEARNING_RATE)\n",
        "\n",
        "train_dataset, test_dataset = load_and_prep_data(NOISE_RATIO)\n",
        "if VISUALIZE_IMAGE_EXAMPLE:\n",
        "    visualize_image_example(train_dataset, NOISE_RATIO)\n",
        "train_model(train_dataset)\n",
        "if VISUALIZE_LATENT_SPACE:\n",
        "    visualize_latent_space(test_dataset, 'Latent Space with {}% noise'.format(NOISE_RATIO * 100))\n",
        "if SHOW_PREDICTION_EXAMPLE:\n",
        "    visualize_image_example(test_dataset, NOISE_RATIO) "
      ],
      "execution_count": 42,
      "outputs": [
        {
          "output_type": "display_data",
          "data": {
            "image/png": "[encoded data removed]",
            "text/plain": [
              "<Figure size 432x288 with 1 Axes>"
            ]
          },
          "metadata": {
            "tags": [],
            "needs_background": "light"
          }
        },
        {
          "output_type": "stream",
          "text": [
            "Epoch 1, Loss: 0.11114353686571121, Accuracy: 79.23631286621094\n",
            " -- \n",
            "Epoch 2, Loss: 0.07080106437206268, Accuracy: 80.17916870117188\n",
            " -- \n",
            "Epoch 3, Loss: 0.06252771615982056, Accuracy: 80.31629180908203\n",
            " -- \n",
            "Epoch 4, Loss: 0.04817992076277733, Accuracy: 79.69082641601562\n",
            " -- \n",
            "Epoch 5, Loss: 0.03347349911928177, Accuracy: 80.21271514892578\n",
            " -- \n",
            "Epoch 6, Loss: 0.028837567195296288, Accuracy: 80.46113586425781\n",
            " -- \n",
            "Epoch 7, Loss: 0.02670784667134285, Accuracy: 80.56887817382812\n",
            " -- \n",
            "Epoch 8, Loss: 0.02538433112204075, Accuracy: 80.63565063476562\n",
            " -- \n",
            "Epoch 9, Loss: 0.024361785501241684, Accuracy: 80.68634033203125\n",
            " -- \n",
            "Epoch 10, Loss: 0.02356998808681965, Accuracy: 80.72496795654297\n",
            " -- \n",
            "Epoch 11, Loss: 0.022890476509928703, Accuracy: 80.7608642578125\n",
            " -- \n",
            "Epoch 12, Loss: 0.02233414724469185, Accuracy: 80.7881088256836\n",
            " -- \n",
            "Epoch 13, Loss: 0.021824972704052925, Accuracy: 80.81383514404297\n",
            " -- \n",
            "Epoch 14, Loss: 0.021371742710471153, Accuracy: 80.83568572998047\n",
            " -- \n",
            "Epoch 15, Loss: 0.02051139436662197, Accuracy: 80.87690734863281\n",
            " -- \n",
            "Epoch 16, Loss: 0.019228052347898483, Accuracy: 80.93917083740234\n",
            " -- \n",
            "Epoch 17, Loss: 0.01852496527135372, Accuracy: 80.97598266601562\n",
            " -- \n",
            "Epoch 18, Loss: 0.018145525828003883, Accuracy: 80.99462127685547\n",
            " -- \n",
            "Epoch 19, Loss: 0.017757197842001915, Accuracy: 81.01235961914062\n",
            " -- \n",
            "Epoch 20, Loss: 0.017462117597460747, Accuracy: 81.02806091308594\n",
            " -- \n",
            "Epoch 21, Loss: 0.017229832708835602, Accuracy: 81.03974914550781\n",
            " -- \n",
            "Epoch 22, Loss: 0.016993694007396698, Accuracy: 81.05166625976562\n",
            " -- \n",
            "Epoch 23, Loss: 0.01678626425564289, Accuracy: 81.06067657470703\n",
            " -- \n",
            "Epoch 24, Loss: 0.016588430851697922, Accuracy: 81.07012176513672\n",
            " -- \n",
            "Epoch 25, Loss: 0.016451474279165268, Accuracy: 81.07855224609375\n",
            " -- \n",
            "Epoch 26, Loss: 0.01627003215253353, Accuracy: 81.08699035644531\n",
            " -- \n",
            "Epoch 27, Loss: 0.016106901690363884, Accuracy: 81.09455871582031\n",
            " -- \n",
            "Epoch 28, Loss: 0.01599223166704178, Accuracy: 81.10002136230469\n",
            " -- \n",
            "Epoch 29, Loss: 0.015857864171266556, Accuracy: 81.1068115234375\n",
            " -- \n",
            "Epoch 30, Loss: 0.01576928049325943, Accuracy: 81.1110610961914\n",
            " -- \n",
            "Epoch 31, Loss: 0.015598961152136326, Accuracy: 81.1187973022461\n",
            " -- \n",
            "Epoch 32, Loss: 0.015518859028816223, Accuracy: 81.1238784790039\n",
            " -- \n",
            "Epoch 33, Loss: 0.0154101038351655, Accuracy: 81.12860107421875\n",
            " -- \n",
            "Epoch 34, Loss: 0.015287267044186592, Accuracy: 81.13461303710938\n",
            " -- \n",
            "Epoch 35, Loss: 0.015203183516860008, Accuracy: 81.13939666748047\n",
            " -- \n",
            "Epoch 36, Loss: 0.015093994326889515, Accuracy: 81.14432525634766\n",
            " -- \n",
            "Epoch 37, Loss: 0.015000776387751102, Accuracy: 81.14932250976562\n",
            " -- \n",
            "Epoch 38, Loss: 0.01497491542249918, Accuracy: 81.1507797241211\n",
            " -- \n",
            "Epoch 39, Loss: 0.014864133670926094, Accuracy: 81.15642547607422\n",
            " -- \n",
            "Epoch 40, Loss: 0.014735804870724678, Accuracy: 81.1617660522461\n",
            " -- \n",
            "Epoch 41, Loss: 0.014698208309710026, Accuracy: 81.16515350341797\n",
            " -- \n",
            "Epoch 42, Loss: 0.014591981656849384, Accuracy: 81.16990661621094\n",
            " -- \n",
            "Epoch 43, Loss: 0.01450407225638628, Accuracy: 81.17449951171875\n",
            " -- \n",
            "Epoch 44, Loss: 0.014434429816901684, Accuracy: 81.17709350585938\n",
            " -- \n",
            "Epoch 45, Loss: 0.014381511136889458, Accuracy: 81.1812973022461\n",
            " -- \n",
            "Epoch 46, Loss: 0.014282059855759144, Accuracy: 81.18499755859375\n",
            " -- \n",
            "Epoch 47, Loss: 0.014245275408029556, Accuracy: 81.18726348876953\n",
            " -- \n",
            "Epoch 48, Loss: 0.014154362492263317, Accuracy: 81.19111633300781\n",
            " -- \n",
            "Epoch 49, Loss: 0.014136852696537971, Accuracy: 81.19390869140625\n",
            " -- \n",
            "Epoch 50, Loss: 0.014029360376298428, Accuracy: 81.19734191894531\n",
            " -- \n",
            "Epoch 51, Loss: 0.013946976512670517, Accuracy: 81.20118713378906\n",
            " -- \n",
            "Epoch 52, Loss: 0.013909727334976196, Accuracy: 81.20375061035156\n",
            " -- \n",
            "Epoch 53, Loss: 0.013880004175007343, Accuracy: 81.20565032958984\n",
            " -- \n",
            "Epoch 54, Loss: 0.013788606971502304, Accuracy: 81.20919799804688\n",
            " -- \n",
            "Epoch 55, Loss: 0.013715795241296291, Accuracy: 81.21300506591797\n",
            " -- \n",
            "Epoch 56, Loss: 0.013697628863155842, Accuracy: 81.21330261230469\n",
            " -- \n",
            "Epoch 57, Loss: 0.013646614737808704, Accuracy: 81.21736907958984\n",
            " -- \n",
            "Epoch 58, Loss: 0.013570059090852737, Accuracy: 81.21987915039062\n",
            " -- \n",
            "Epoch 59, Loss: 0.013553147204220295, Accuracy: 81.22126007080078\n",
            " -- \n",
            "Epoch 60, Loss: 0.01349768415093422, Accuracy: 81.22372436523438\n",
            " -- \n",
            "Epoch 61, Loss: 0.013409237377345562, Accuracy: 81.22769927978516\n",
            " -- \n",
            "Epoch 62, Loss: 0.013374852947890759, Accuracy: 81.228759765625\n",
            " -- \n",
            "Epoch 63, Loss: 0.013322778977453709, Accuracy: 81.23159790039062\n",
            " -- \n",
            "Epoch 64, Loss: 0.013306915760040283, Accuracy: 81.23172760009766\n",
            " -- \n",
            "Epoch 65, Loss: 0.013237436302006245, Accuracy: 81.235595703125\n",
            " -- \n",
            "Epoch 66, Loss: 0.013190490193665028, Accuracy: 81.23699188232422\n",
            " -- \n",
            "Epoch 67, Loss: 0.013155931606888771, Accuracy: 81.23836517333984\n",
            " -- \n",
            "Epoch 68, Loss: 0.013157512992620468, Accuracy: 81.2393798828125\n",
            " -- \n",
            "Epoch 69, Loss: 0.013071206398308277, Accuracy: 81.2426528930664\n",
            " -- \n",
            "Epoch 70, Loss: 0.013015457428991795, Accuracy: 81.24563598632812\n",
            " -- \n",
            "Epoch 71, Loss: 0.013034766539931297, Accuracy: 81.24461364746094\n",
            " -- \n",
            "Epoch 72, Loss: 0.012953666038811207, Accuracy: 81.24824523925781\n",
            " -- \n",
            "Epoch 73, Loss: 0.012927872128784657, Accuracy: 81.24903106689453\n",
            " -- \n",
            "Epoch 74, Loss: 0.01287958212196827, Accuracy: 81.25121307373047\n",
            " -- \n",
            "Epoch 75, Loss: 0.012839686125516891, Accuracy: 81.25357055664062\n",
            " -- \n",
            "Epoch 76, Loss: 0.012814203277230263, Accuracy: 81.25431060791016\n",
            " -- \n",
            "Epoch 77, Loss: 0.012774194590747356, Accuracy: 81.25565338134766\n",
            " -- \n",
            "Epoch 78, Loss: 0.012727676890790462, Accuracy: 81.25817108154297\n",
            " -- \n",
            "Epoch 79, Loss: 0.012680635787546635, Accuracy: 81.26016998291016\n",
            " -- \n",
            "Epoch 80, Loss: 0.012640450149774551, Accuracy: 81.2611312866211\n",
            " -- \n",
            "Epoch 81, Loss: 0.012638854794204235, Accuracy: 81.26178741455078\n",
            " -- \n",
            "Epoch 82, Loss: 0.01259672176092863, Accuracy: 81.26336669921875\n",
            " -- \n",
            "Epoch 83, Loss: 0.012603872455656528, Accuracy: 81.2637710571289\n",
            " -- \n",
            "Epoch 84, Loss: 0.012546049430966377, Accuracy: 81.26518249511719\n",
            " -- \n",
            "Epoch 85, Loss: 0.012496870011091232, Accuracy: 81.26790618896484\n",
            " -- \n",
            "Epoch 86, Loss: 0.012454643845558167, Accuracy: 81.26968383789062\n",
            " -- \n",
            "Epoch 87, Loss: 0.012440762482583523, Accuracy: 81.27128601074219\n",
            " -- \n",
            "Epoch 88, Loss: 0.012404391542077065, Accuracy: 81.27162170410156\n",
            " -- \n",
            "Epoch 89, Loss: 0.012355400249361992, Accuracy: 81.27360534667969\n",
            " -- \n",
            "Epoch 90, Loss: 0.012341917492449284, Accuracy: 81.27410125732422\n",
            " -- \n",
            "Epoch 91, Loss: 0.012331659905612469, Accuracy: 81.27483367919922\n",
            " -- \n",
            "Epoch 92, Loss: 0.012307862751185894, Accuracy: 81.27606201171875\n",
            " -- \n",
            "Epoch 93, Loss: 0.012236746959388256, Accuracy: 81.27849578857422\n",
            " -- \n",
            "Epoch 94, Loss: 0.012228074483573437, Accuracy: 81.27909851074219\n",
            " -- \n",
            "Epoch 95, Loss: 0.01219263393431902, Accuracy: 81.2799072265625\n",
            " -- \n",
            "Epoch 96, Loss: 0.012172664515674114, Accuracy: 81.2817153930664\n",
            " -- \n",
            "Epoch 97, Loss: 0.012106132693588734, Accuracy: 81.28340148925781\n",
            " -- \n",
            "Epoch 98, Loss: 0.012089502066373825, Accuracy: 81.2841796875\n",
            " -- \n",
            "Epoch 99, Loss: 0.012070777826011181, Accuracy: 81.28511810302734\n",
            " -- \n",
            "Epoch 100, Loss: 0.01205391250550747, Accuracy: 81.28614807128906\n",
            " -- \n"
          ],
          "name": "stdout"
        },
        {
          "output_type": "display_data",
          "data": {
            "image/png": "[encoded data removed]",
            "text/plain": [
              "<Figure size 432x288 with 1 Axes>"
            ]
          },
          "metadata": {
            "tags": [],
            "needs_background": "light"
          }
        },
        {
          "output_type": "display_data",
          "data": {
            "image/png": "[encoded data removed]",
            "text/plain": [
              "<Figure size 432x288 with 1 Axes>"
            ]
          },
          "metadata": {
            "tags": [],
            "needs_background": "light"
          }
        }
      ]
    }
  ]
}