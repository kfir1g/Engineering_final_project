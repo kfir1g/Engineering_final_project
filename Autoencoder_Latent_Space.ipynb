{
  "nbformat": 4,
  "nbformat_minor": 0,
  "metadata": {
    "colab": {
      "name": "Autoencoder_Latent_Space.ipynb",
      "provenance": [],
      "collapsed_sections": [
        "9UNC44G4JZnD"
      ],
      "authorship_tag": "ABX9TyOBhZbPKaIoIVLD59VC2y4Q",
      "include_colab_link": true
    },
    "kernelspec": {
      "name": "python3",
      "display_name": "Python 3"
    },
    "accelerator": "GPU"
  },
  "cells": [
    {
      "cell_type": "markdown",
      "metadata": {
        "id": "view-in-github",
        "colab_type": "text"
      },
      "source": [
        "<a href=\"https://colab.research.google.com/github/kfir1g/Engineering_final_project/blob/master/Autoencoder_Latent_Space.ipynb\" target=\"_parent\"><img src=\"https://colab.research.google.com/assets/colab-badge.svg\" alt=\"Open In Colab\"/></a>"
      ]
    },
    {
      "cell_type": "markdown",
      "metadata": {
        "id": "X4lD-CPVF-cw",
        "colab_type": "text"
      },
      "source": [
        "## Loading Tensorflow on colab"
      ]
    },
    {
      "cell_type": "code",
      "metadata": {
        "id": "jJPVVwKcFy3h",
        "colab_type": "code",
        "colab": {}
      },
      "source": [
        "try:\n",
        "  # %tensorflow_version only exists in Colab.\n",
        "  %tensorflow_version 2.x\n",
        "except Exception:\n",
        "  pass"
      ],
      "execution_count": 0,
      "outputs": []
    },
    {
      "cell_type": "markdown",
      "metadata": {
        "id": "Tq7mlMr-Jtmv",
        "colab_type": "text"
      },
      "source": [
        "## Imports and Constants\n",
        "Change the following constants as you see fit"
      ]
    },
    {
      "cell_type": "code",
      "metadata": {
        "id": "-JlFFJf1JyuJ",
        "colab_type": "code",
        "colab": {}
      },
      "source": [
        "import tensorflow as tf\n",
        "from tensorflow.keras.layers import Dense, Flatten, Conv2D, MaxPooling2D, Dropout, InputLayer, Reshape, Conv2DTranspose\n",
        "from tensorflow.keras import Model\n",
        "import numpy as np\n",
        "import matplotlib.pyplot as plt\n",
        "from sklearn import manifold\n",
        "\n",
        "TRAIN_BUF = 60000\n",
        "BATCH_SIZE = 1000\n",
        "TEST_BUF = 10000\n",
        "EPOCHES = 20\n",
        "NOISE_RATIO = 0.0    # noise should be in the range [0, 1]\n",
        "LEARNING_RATE = 1e-3\n",
        "VISUALIZE_IMAGE_EXAMPLE = True\n",
        "VISUALIZE_LATENT_SPACE = True\n",
        "SHOW_PREDICTION_EXAMPLE = True"
      ],
      "execution_count": 0,
      "outputs": []
    },
    {
      "cell_type": "markdown",
      "metadata": {
        "id": "1nh-uVjhJHoC",
        "colab_type": "text"
      },
      "source": [
        "## Defining the AutoEncoder"
      ]
    },
    {
      "cell_type": "code",
      "metadata": {
        "id": "F2OIlun4G3ci",
        "colab_type": "code",
        "colab": {}
      },
      "source": [
        "class Encoder (Model):\n",
        "    def __init__(self):\n",
        "        super(Encoder, self).__init__()\n",
        "        self.conv1 = Conv2D(32, 3, strides=(2, 2), activation='relu')\n",
        "        self.conv2 = Conv2D(64, 3, strides=(2, 2), activation='relu')\n",
        "        self.flatten = Flatten()\n",
        "        self.dense1 = Dense(512, activation='relu')\n",
        "        self.dense2 = Dense(10, activation='relu')\n",
        "\n",
        "    def call(self, x):\n",
        "        x = self.conv1(x)\n",
        "        x = self.conv2(x)\n",
        "        x = self.flatten(x)\n",
        "        x = self.dense1(x)\n",
        "        return self.dense2(x)\n",
        "\n",
        "\n",
        "class Decoder(Model):\n",
        "    def __init__(self):\n",
        "        super(Decoder, self).__init__()\n",
        "        self.dense1 = Dense(512, activation='relu')\n",
        "        self.dense2 = Dense(7 * 7 * 64, activation='relu')\n",
        "        self.reshape = Reshape(target_shape=(7, 7, 64))\n",
        "        self.transConv1 = Conv2DTranspose(filters=32, kernel_size=3, strides=(2, 2), activation='relu', padding='same')\n",
        "        self.transConv2 = Conv2DTranspose(filters=1, kernel_size=3, strides=(2, 2), activation='sigmoid', padding='same')\n",
        "\n",
        "    def call(self, x):\n",
        "        x = self.dense1(x)\n",
        "        x = self.dense2(x)\n",
        "        x = self.reshape(x)\n",
        "        x = self.transConv1(x)\n",
        "        return self.transConv2(x)\n",
        "\n",
        "\n",
        "class AutoEncoder(Model):\n",
        "    def __init__(self):\n",
        "        super(AutoEncoder, self).__init__()\n",
        "        self.encoder = Encoder()\n",
        "        self.decoder = Decoder()\n",
        "\n",
        "    def call(self, x):\n",
        "        output = []\n",
        "        x = self.encoder(x)\n",
        "        output.append(x)\n",
        "        x = self.decoder(x)\n",
        "        output.append(x)\n",
        "        return output"
      ],
      "execution_count": 0,
      "outputs": []
    },
    {
      "cell_type": "markdown",
      "metadata": {
        "id": "9UNC44G4JZnD",
        "colab_type": "text"
      },
      "source": [
        "## Loading Data\n",
        "Loading mnist data, and normalizing it"
      ]
    },
    {
      "cell_type": "code",
      "metadata": {
        "id": "8JqKbt5PJhyn",
        "colab_type": "code",
        "colab": {}
      },
      "source": [
        "def load_and_prep_data(noise_ratio=0.0):\n",
        "    \"\"\"Loads data from Mnist and normalize it to the range [0, 1]\"\"\"\n",
        "    (train_images, train_labels), (test_images, test_labels) = tf.keras.datasets.mnist.load_data()\n",
        "    train_images = train_images.reshape(train_images.shape[0], 28, 28, 1).astype('float32')\n",
        "    test_images = test_images.reshape(test_images.shape[0], 28, 28, 1).astype('float32')\n",
        "\n",
        "    # Normalization of the data\n",
        "    train_images = (train_images - train_images.min()) / (train_images.max() - train_images.min())\n",
        "    test_images = (test_images - test_images.min()) / (test_images.max() - test_images.min()) \n",
        "\n",
        "    # Add noise to the image\n",
        "    if noise_ratio:\n",
        "        train_images = train_images + noise_ratio * np.random.normal(loc=0, scale=1.0, size=train_images.shape)\n",
        "        train_images = np.clip(train_images, 0.0, 1.0)\n",
        "        test_images = test_images + noise_ratio * np.random.normal(loc=0, scale=1.0, size=test_images.shape)\n",
        "        test_images = np.clip(test_images, 0.0, 1.0)\n",
        "        train_images = train_images.reshape(train_images.shape[0], 28, 28, 1).astype('float32')\n",
        "        test_images = test_images.reshape(test_images.shape[0], 28, 28, 1).astype('float32')\n",
        "\n",
        "    train_dataset = tf.data.Dataset.from_tensor_slices((train_images, train_labels)).shuffle(TRAIN_BUF).batch(BATCH_SIZE)\n",
        "    test_dataset = tf.data.Dataset.from_tensor_slices((test_images, test_labels)).shuffle(TEST_BUF).batch(BATCH_SIZE)\n",
        "    return train_dataset, test_dataset"
      ],
      "execution_count": 0,
      "outputs": []
    },
    {
      "cell_type": "markdown",
      "metadata": {
        "id": "IzJcwLepK-Bf",
        "colab_type": "text"
      },
      "source": [
        "## Method definition\n",
        "The following methods define the training process"
      ]
    },
    {
      "cell_type": "code",
      "metadata": {
        "id": "zLoGBs84K9qL",
        "colab_type": "code",
        "colab": {}
      },
      "source": [
        "def reset_states():\n",
        "    \"\"\"This function reset the accuracy and the loss\"\"\"\n",
        "    train_loss.reset_states()\n",
        "    train_accuracy.reset_states()\n",
        "    test_loss.reset_states()\n",
        "    test_accuracy.reset_states()\n",
        "\n",
        "\n",
        "def loss_l2(images, predictions):\n",
        "    \"\"\"loss object\"\"\"\n",
        "    return tf.reduce_mean(tf.square(images - predictions))\n",
        "\n",
        "\n",
        "@tf.function\n",
        "def train_step(images):\n",
        "    \"\"\"Gradient decent training\"\"\"\n",
        "    with tf.GradientTape() as tape:\n",
        "        predictions = model(images)[-1]\n",
        "        loss = loss_l2(images, predictions)\n",
        "        gradients = tape.gradient(loss, model.trainable_variables)\n",
        "        optimizer.apply_gradients(zip(gradients, model.trainable_variables))\n",
        "        train_loss(loss)\n",
        "        train_accuracy(images, predictions)\n",
        "    return loss\n",
        "\n",
        "\n",
        "def test_step(images):\n",
        "    \"\"\"Tests the images\"\"\"\n",
        "    predictions = model(images)[-1]\n",
        "    loss = loss_l2(images, predictions)\n",
        "    test_loss(loss)\n",
        "    test_accuracy(images, predictions)\n",
        "\n",
        "    \n",
        "def train_model(train_dataset):\n",
        "    \"\"\"Train the model based on previously declared methods\"\"\"\n",
        "    for epoch in range(EPOCHES):\n",
        "        for images, labels in train_dataset:\n",
        "            train_step(images)\n",
        "        template = 'Epoch {}, Loss: {}, Accuracy: {}'\n",
        "        print(template.format(epoch + 1, train_loss.result(), train_accuracy.result() * 100))\n",
        "        print(\" -- \", flush=True)\n",
        "        reset_states()\n",
        "\n",
        "\n",
        "def visualize_latent_space(test_dataset, title=''):\n",
        "    \"\"\"\n",
        "    plots the latent space\n",
        "    :param test_dataset: The test dataset\n",
        "    :param title: the title for the figure\n",
        "    \"\"\"\n",
        "    for x, y in test_dataset:\n",
        "        latent_space = model(x)[0]\n",
        "        fitted_space = manifold.TSNE().fit_transform(latent_space)\n",
        "        for i in range(10):  # 10 possible digits\n",
        "            digit_cluster = fitted_space[np.where(y == i)]\n",
        "            plt.plot(digit_cluster[:, 0], digit_cluster[:, 1], '.')\n",
        "        plt.axis(\"off\")\n",
        "        plt.title(title)\n",
        "        plt.legend({i: i for i in range(10)})\n",
        "        plt.show()\n",
        "        break\n",
        "\n",
        "\n",
        "def visualize_image_example(dataset, noise):\n",
        "    \"\"\"Visualize an example from the training data\"\"\"\n",
        "    for images, labels in dataset:\n",
        "        image = np.reshape(images[0, :, :, :], images.shape[1:3])\n",
        "        plt.imshow(image, cmap='gray')\n",
        "        plt.axis('off')\n",
        "        plt.title(\"Digit={}, Noise={}%\".format(labels[0].numpy().astype(np.str), (noise*100)))\n",
        "        plt.show()\n",
        "        break\n"
      ],
      "execution_count": 0,
      "outputs": []
    },
    {
      "cell_type": "markdown",
      "metadata": {
        "id": "Fb76h3BSN8XZ",
        "colab_type": "text"
      },
      "source": [
        "## Training the Net\n",
        "This section trains the net\n",
        "There are constants regarding showing examples of the results"
      ]
    },
    {
      "cell_type": "code",
      "metadata": {
        "id": "hyIlnXr4N8uQ",
        "colab_type": "code",
        "outputId": "1251feda-9b0a-4df6-a588-5b03f31e5bdc",
        "colab": {
          "base_uri": "https://localhost:8080/",
          "height": 1000
        }
      },
      "source": [
        "# Elements for the neural network\n",
        "train_loss = tf.keras.metrics.Mean(name='train_loss')\n",
        "train_accuracy = tf.keras.metrics.BinaryAccuracy(name='train_accuracy')\n",
        "test_loss = tf.keras.metrics.Mean(name='test_loss')\n",
        "test_accuracy = tf.keras.metrics.BinaryAccuracy(name='test_accuracy')\n",
        "model = AutoEncoder()\n",
        "optimizer = tf.keras.optimizers.Adam(LEARNING_RATE)\n",
        "\n",
        "train_dataset, test_dataset = load_and_prep_data(NOISE_RATIO)\n",
        "if VISUALIZE_IMAGE_EXAMPLE:\n",
        "    visualize_image_example(train_dataset, NOISE_RATIO)\n",
        "train_model(train_dataset)\n",
        "if VISUALIZE_LATENT_SPACE:\n",
        "    visualize_latent_space(test_dataset, 'Latent Space with {}% noise'.format(NOISE_RATIO * 100))\n",
        "if SHOW_PREDICTION_EXAMPLE:\n",
        "    visualize_image_example(test_dataset, NOISE_RATIO) "
      ],
      "execution_count": 0,
      "outputs": [
        {
          "output_type": "display_data",
          "data": {
            "image/png": "[encoded data removed]",
            "text/plain": [
              "<Figure size 432x288 with 1 Axes>"
            ]
          },
          "metadata": {
            "tags": [],
            "needs_background": "light"
          }
        },
        {
          "output_type": "stream",
          "text": [
            "Epoch 1, Loss: 0.10920298099517822, Accuracy: 79.56458282470703\n",
            " -- \n",
            "Epoch 2, Loss: 0.06985339522361755, Accuracy: 80.19477081298828\n",
            " -- \n",
            "Epoch 3, Loss: 0.057543568313121796, Accuracy: 79.85428619384766\n",
            " -- \n",
            "Epoch 4, Loss: 0.0408923365175724, Accuracy: 79.74137878417969\n",
            " -- \n",
            "Epoch 5, Loss: 0.029925623908638954, Accuracy: 80.39830017089844\n",
            " -- \n",
            "Epoch 6, Loss: 0.02507132664322853, Accuracy: 80.6454086303711\n",
            " -- \n",
            "Epoch 7, Loss: 0.022787507623434067, Accuracy: 80.75659942626953\n",
            " -- \n",
            "Epoch 8, Loss: 0.02135458216071129, Accuracy: 80.82882690429688\n",
            " -- \n",
            "Epoch 9, Loss: 0.020249448716640472, Accuracy: 80.88214111328125\n",
            " -- \n",
            "Epoch 10, Loss: 0.019458089023828506, Accuracy: 80.9204330444336\n",
            " -- \n",
            "Epoch 11, Loss: 0.01879369281232357, Accuracy: 80.95463562011719\n",
            " -- \n",
            "Epoch 12, Loss: 0.018252993002533913, Accuracy: 80.97989654541016\n",
            " -- \n",
            "Epoch 13, Loss: 0.017774153500795364, Accuracy: 81.0042495727539\n",
            " -- \n",
            "Epoch 14, Loss: 0.01735217683017254, Accuracy: 81.02483367919922\n",
            " -- \n",
            "Epoch 15, Loss: 0.017070969566702843, Accuracy: 81.04112243652344\n",
            " -- \n",
            "Epoch 16, Loss: 0.01673022098839283, Accuracy: 81.05685424804688\n",
            " -- \n",
            "Epoch 17, Loss: 0.01642482914030552, Accuracy: 81.07341766357422\n",
            " -- \n",
            "Epoch 18, Loss: 0.016170425340533257, Accuracy: 81.08529663085938\n",
            " -- \n",
            "Epoch 19, Loss: 0.015926115214824677, Accuracy: 81.09673309326172\n",
            " -- \n",
            "Epoch 20, Loss: 0.01572365127503872, Accuracy: 81.10707092285156\n",
            " -- \n",
            "Epoch 21, Loss: 0.0155179463326931, Accuracy: 81.11709594726562\n",
            " -- \n",
            "Epoch 22, Loss: 0.01532230619341135, Accuracy: 81.12671661376953\n",
            " -- \n",
            "Epoch 23, Loss: 0.015120601281523705, Accuracy: 81.13529205322266\n",
            " -- \n",
            "Epoch 24, Loss: 0.014965374954044819, Accuracy: 81.14334106445312\n",
            " -- \n",
            "Epoch 25, Loss: 0.01484578475356102, Accuracy: 81.14910125732422\n",
            " -- \n",
            "Epoch 26, Loss: 0.014685576781630516, Accuracy: 81.15747833251953\n",
            " -- \n",
            "Epoch 27, Loss: 0.014577698893845081, Accuracy: 81.16156005859375\n",
            " -- \n",
            "Epoch 28, Loss: 0.01444100122898817, Accuracy: 81.16741943359375\n",
            " -- \n",
            "Epoch 29, Loss: 0.014326279051601887, Accuracy: 81.17350006103516\n",
            " -- \n",
            "Epoch 30, Loss: 0.01421274058520794, Accuracy: 81.17798614501953\n",
            " -- \n",
            "Epoch 31, Loss: 0.014100524596869946, Accuracy: 81.1841812133789\n",
            " -- \n",
            "Epoch 32, Loss: 0.01400983426719904, Accuracy: 81.18791198730469\n",
            " -- \n",
            "Epoch 33, Loss: 0.01391573715955019, Accuracy: 81.19165802001953\n",
            " -- \n",
            "Epoch 34, Loss: 0.013772404752671719, Accuracy: 81.19815826416016\n",
            " -- \n"
          ],
          "name": "stdout"
        }
      ]
    }
  ]
}